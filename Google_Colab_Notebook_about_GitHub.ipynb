{
  "nbformat": 4,
  "nbformat_minor": 0,
  "metadata": {
    "colab": {
      "provenance": [],
      "collapsed_sections": [],
      "authorship_tag": "ABX9TyPvxToBRKphE8s62ZGD17N4",
      "include_colab_link": true
    },
    "kernelspec": {
      "name": "python3",
      "display_name": "Python 3"
    },
    "language_info": {
      "name": "python"
    }
  },
  "cells": [
    {
      "cell_type": "markdown",
      "metadata": {
        "id": "view-in-github",
        "colab_type": "text"
      },
      "source": [
        "<a href=\"https://colab.research.google.com/github/lkalabric/front-end-web/blob/main/Google_Colab_Notebook_about_GitHub.ipynb\" target=\"_parent\"><img src=\"https://colab.research.google.com/assets/colab-badge.svg\" alt=\"Open In Colab\"/></a>"
      ]
    },
    {
      "cell_type": "markdown",
      "source": [
        "#Clone an existing remote repo from GitHub"
      ],
      "metadata": {
        "id": "cDELQMcEkG_n"
      }
    },
    {
      "cell_type": "code",
      "source": [
        "%%shell\n",
        "# Clone GitHub repo\n",
        "mkdir repos && cd \"$_\"\n",
        "\n",
        "# git clone <url>\n",
        "git clone https://github.com/lkalabric/front-end-web.git\n",
        "# Pick a .py file and edit it"
      ],
      "metadata": {
        "id": "-bWVt-EDmly-",
        "outputId": "c06547e1-4f28-48ce-d8a8-4b46977ea82a",
        "colab": {
          "base_uri": "https://localhost:8080/"
        }
      },
      "execution_count": 1,
      "outputs": [
        {
          "output_type": "stream",
          "name": "stdout",
          "text": [
            "Cloning into 'front-end-web'...\n",
            "remote: Enumerating objects: 36, done.\u001b[K\n",
            "remote: Counting objects: 100% (36/36), done.\u001b[K\n",
            "remote: Compressing objects: 100% (33/33), done.\u001b[K\n",
            "remote: Total 36 (delta 13), reused 0 (delta 0), pack-reused 0\u001b[K\n",
            "Unpacking objects: 100% (36/36), done.\n"
          ]
        },
        {
          "output_type": "execute_result",
          "data": {
            "text/plain": []
          },
          "metadata": {},
          "execution_count": 1
        }
      ]
    },
    {
      "cell_type": "code",
      "source": [
        "%%shell\n",
        "# Push to a remote repo, not working!\n",
        "cd repos/front-end-web/\n",
        "git remote add origin https://github.com/lkalabric/front-end-web.git\n",
        "git branch -M `main`\n",
        "#git push -u origin `main`\n",
        "git push --set-upstream origin master"
      ],
      "metadata": {
        "id": "vCG9xZI1jhnW",
        "outputId": "19e5b597-cf8a-4863-a60d-f05a87d4bb5e",
        "colab": {
          "base_uri": "https://localhost:8080/",
          "height": 537
        }
      },
      "execution_count": 3,
      "outputs": [
        {
          "output_type": "stream",
          "name": "stdout",
          "text": [
            "fatal: remote origin already exists.\n",
            "/bin/bash: line 3: main: command not found\n",
            "fatal: branch name required\n",
            "error: src refspec master does not match any.\n",
            "error: failed to push some refs to 'https://github.com/lkalabric/front-end-web.git'\n"
          ]
        },
        {
          "output_type": "error",
          "ename": "CalledProcessError",
          "evalue": "ignored",
          "traceback": [
            "\u001b[0;31m---------------------------------------------------------------------------\u001b[0m",
            "\u001b[0;31mCalledProcessError\u001b[0m                        Traceback (most recent call last)",
            "\u001b[0;32m<ipython-input-3-33532223436a>\u001b[0m in \u001b[0;36m<module>\u001b[0;34m\u001b[0m\n\u001b[0;32m----> 1\u001b[0;31m \u001b[0mget_ipython\u001b[0m\u001b[0;34m(\u001b[0m\u001b[0;34m)\u001b[0m\u001b[0;34m.\u001b[0m\u001b[0mrun_cell_magic\u001b[0m\u001b[0;34m(\u001b[0m\u001b[0;34m'shell'\u001b[0m\u001b[0;34m,\u001b[0m \u001b[0;34m''\u001b[0m\u001b[0;34m,\u001b[0m \u001b[0;34m'# Push to a remote repo, not working!\\ncd repos/front-end-web/\\ngit remote add origin https://github.com/lkalabric/front-end-web.git\\ngit branch -M `main`\\n#git push -u origin `main`\\ngit push --set-upstream origin master\\n'\u001b[0m\u001b[0;34m)\u001b[0m\u001b[0;34m\u001b[0m\u001b[0;34m\u001b[0m\u001b[0m\n\u001b[0m",
            "\u001b[0;32m/usr/local/lib/python3.7/dist-packages/IPython/core/interactiveshell.py\u001b[0m in \u001b[0;36mrun_cell_magic\u001b[0;34m(self, magic_name, line, cell)\u001b[0m\n\u001b[1;32m   2357\u001b[0m             \u001b[0;32mwith\u001b[0m \u001b[0mself\u001b[0m\u001b[0;34m.\u001b[0m\u001b[0mbuiltin_trap\u001b[0m\u001b[0;34m:\u001b[0m\u001b[0;34m\u001b[0m\u001b[0;34m\u001b[0m\u001b[0m\n\u001b[1;32m   2358\u001b[0m                 \u001b[0margs\u001b[0m \u001b[0;34m=\u001b[0m \u001b[0;34m(\u001b[0m\u001b[0mmagic_arg_s\u001b[0m\u001b[0;34m,\u001b[0m \u001b[0mcell\u001b[0m\u001b[0;34m)\u001b[0m\u001b[0;34m\u001b[0m\u001b[0;34m\u001b[0m\u001b[0m\n\u001b[0;32m-> 2359\u001b[0;31m                 \u001b[0mresult\u001b[0m \u001b[0;34m=\u001b[0m \u001b[0mfn\u001b[0m\u001b[0;34m(\u001b[0m\u001b[0;34m*\u001b[0m\u001b[0margs\u001b[0m\u001b[0;34m,\u001b[0m \u001b[0;34m**\u001b[0m\u001b[0mkwargs\u001b[0m\u001b[0;34m)\u001b[0m\u001b[0;34m\u001b[0m\u001b[0;34m\u001b[0m\u001b[0m\n\u001b[0m\u001b[1;32m   2360\u001b[0m             \u001b[0;32mreturn\u001b[0m \u001b[0mresult\u001b[0m\u001b[0;34m\u001b[0m\u001b[0;34m\u001b[0m\u001b[0m\n\u001b[1;32m   2361\u001b[0m \u001b[0;34m\u001b[0m\u001b[0m\n",
            "\u001b[0;32m/usr/local/lib/python3.7/dist-packages/google/colab/_system_commands.py\u001b[0m in \u001b[0;36m_shell_cell_magic\u001b[0;34m(args, cmd)\u001b[0m\n\u001b[1;32m    107\u001b[0m   \u001b[0mresult\u001b[0m \u001b[0;34m=\u001b[0m \u001b[0m_run_command\u001b[0m\u001b[0;34m(\u001b[0m\u001b[0mcmd\u001b[0m\u001b[0;34m,\u001b[0m \u001b[0mclear_streamed_output\u001b[0m\u001b[0;34m=\u001b[0m\u001b[0;32mFalse\u001b[0m\u001b[0;34m)\u001b[0m\u001b[0;34m\u001b[0m\u001b[0;34m\u001b[0m\u001b[0m\n\u001b[1;32m    108\u001b[0m   \u001b[0;32mif\u001b[0m \u001b[0;32mnot\u001b[0m \u001b[0mparsed_args\u001b[0m\u001b[0;34m.\u001b[0m\u001b[0mignore_errors\u001b[0m\u001b[0;34m:\u001b[0m\u001b[0;34m\u001b[0m\u001b[0;34m\u001b[0m\u001b[0m\n\u001b[0;32m--> 109\u001b[0;31m     \u001b[0mresult\u001b[0m\u001b[0;34m.\u001b[0m\u001b[0mcheck_returncode\u001b[0m\u001b[0;34m(\u001b[0m\u001b[0;34m)\u001b[0m\u001b[0;34m\u001b[0m\u001b[0;34m\u001b[0m\u001b[0m\n\u001b[0m\u001b[1;32m    110\u001b[0m   \u001b[0;32mreturn\u001b[0m \u001b[0mresult\u001b[0m\u001b[0;34m\u001b[0m\u001b[0;34m\u001b[0m\u001b[0m\n\u001b[1;32m    111\u001b[0m \u001b[0;34m\u001b[0m\u001b[0m\n",
            "\u001b[0;32m/usr/local/lib/python3.7/dist-packages/google/colab/_system_commands.py\u001b[0m in \u001b[0;36mcheck_returncode\u001b[0;34m(self)\u001b[0m\n\u001b[1;32m    133\u001b[0m     \u001b[0;32mif\u001b[0m \u001b[0mself\u001b[0m\u001b[0;34m.\u001b[0m\u001b[0mreturncode\u001b[0m\u001b[0;34m:\u001b[0m\u001b[0;34m\u001b[0m\u001b[0;34m\u001b[0m\u001b[0m\n\u001b[1;32m    134\u001b[0m       raise subprocess.CalledProcessError(\n\u001b[0;32m--> 135\u001b[0;31m           returncode=self.returncode, cmd=self.args, output=self.output)\n\u001b[0m\u001b[1;32m    136\u001b[0m \u001b[0;34m\u001b[0m\u001b[0m\n\u001b[1;32m    137\u001b[0m   \u001b[0;32mdef\u001b[0m \u001b[0m_repr_pretty_\u001b[0m\u001b[0;34m(\u001b[0m\u001b[0mself\u001b[0m\u001b[0;34m,\u001b[0m \u001b[0mp\u001b[0m\u001b[0;34m,\u001b[0m \u001b[0mcycle\u001b[0m\u001b[0;34m)\u001b[0m\u001b[0;34m:\u001b[0m  \u001b[0;31m# pylint:disable=unused-argument\u001b[0m\u001b[0;34m\u001b[0m\u001b[0;34m\u001b[0m\u001b[0m\n",
            "\u001b[0;31mCalledProcessError\u001b[0m: Command '# Push to a remote repo, not working!\ncd repos/front-end-web/\ngit remote add origin https://github.com/lkalabric/front-end-web.git\ngit branch -M `main`\n#git push -u origin `main`\ngit push --set-upstream origin master\n' returned non-zero exit status 1."
          ]
        }
      ]
    },
    {
      "cell_type": "markdown",
      "source": [
        "#Creating a local repo"
      ],
      "metadata": {
        "id": "hmoeI8Gi7VYe"
      }
    },
    {
      "cell_type": "code",
      "source": [
        "# Reset repos/\n",
        "!rm -r repos/"
      ],
      "metadata": {
        "id": "ke0-7oQLuC72"
      },
      "execution_count": null,
      "outputs": []
    },
    {
      "cell_type": "code",
      "source": [
        "# Create a new local repository\n",
        "%%shell\n",
        "rm -r repos/front-end-web/\n",
        "mkdir repos/front-end-web/ && cd \"$_\"\n",
        "echo \"# front-end-web\" >> README.md\n",
        "git init\n",
        "\n",
        "# Adds a change in the working directory to the staging area\n",
        "git add README.md\n",
        "git config --global user.email \"luciano.kalabric@fiocruz.br\"\n",
        "git config --global user.name \"lkalabric\"\n",
        "\n",
        "# Making a commit\n",
        "git commit -m \"first commit\"\n",
        "\n",
        "# Connecting with a remote repo at GitHub\n",
        "git remote add origin https://github.com/lkalabric/front-end-web.git"
      ],
      "metadata": {
        "id": "aQ7t3_rjL1_e"
      },
      "execution_count": null,
      "outputs": []
    },
    {
      "cell_type": "code",
      "source": [
        "# Password-based authentication for Git has been removed in favor of more secure authentication methods:\n",
        "\n",
        "# Install and configure GitCredentialManager\n",
        "%%shell\n",
        "wget https://github.com/GitCredentialManager/git-credential-manager/releases/download/v2.0.785/gcm-linux_amd64.2.0.785.deb\n",
        "sudo dpkg -i gcm-linux_amd64.2.0.785.deb\n",
        "git-credential-manager-core configure\n",
        "git config --global credential.credentialStore gpg\n",
        "\n",
        "# Install and configure pass\n",
        "sudo apt install pass\n",
        "cd repos/front-end-web/\n",
        "pass\n",
        "\n"
      ],
      "metadata": {
        "id": "6w4ibfyeTTGB"
      },
      "execution_count": null,
      "outputs": []
    },
    {
      "cell_type": "code",
      "source": [
        "# Push to a remote repository\n",
        "%%shell\n",
        "cd repos/front-end-web/\n",
        "git push --set-upstream origin master"
      ],
      "metadata": {
        "id": "pP6C9gAFX2eY"
      },
      "execution_count": null,
      "outputs": []
    }
  ]
}